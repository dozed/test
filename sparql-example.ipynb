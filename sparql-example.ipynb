{
 "cells": [
  {
   "cell_type": "code",
   "execution_count": 1,
   "id": "8c29f265-234c-4bf7-9cdc-3b1912757dff",
   "metadata": {
    "tags": []
   },
   "outputs": [],
   "source": [
    "from io import StringIO\n",
    "\n",
    "from SPARQLWrapper import SPARQLWrapper, CSV\n",
    "import pandas as pd\n",
    "import matplotlib.pyplot as plt"
   ]
  },
  {
   "cell_type": "markdown",
   "id": "beaa4048-eb1a-4a25-9332-ba01d8b80e02",
   "metadata": {},
   "source": [
    "This notebook shows how to query the dblp SPARQL endpoint via Python.\n",
    "\n",
    "Make sure that the required libraries are installed: `pip install matplotlib pandas sparqlwrapper`"
   ]
  },
  {
   "cell_type": "markdown",
   "id": "18055e34-1bc4-4337-9693-bb26fe58b57b",
   "metadata": {},
   "source": [
    "Define SPARQL endpoint:"
   ]
  },
  {
   "cell_type": "code",
   "execution_count": 32,
   "id": "d6137276-7105-4c47-a468-01d184e82ca1",
   "metadata": {
    "tags": []
   },
   "outputs": [],
   "source": [
    "ENDPOINT = 'https://sparql.dblp.org/sparql'"
   ]
  },
  {
   "cell_type": "markdown",
   "id": "3163d070-b825-4d29-b9ea-bf2695816411",
   "metadata": {},
   "source": [
    "Function to query a SPARQL endpoint and convert the result to a Pandas `DataFrame` (adapted from https://github.com/lawlesst/sparql-dataframe):"
   ]
  },
  {
   "cell_type": "code",
   "execution_count": 3,
   "id": "4d83fe53-8986-4366-84f2-352025e9daf6",
   "metadata": {
    "tags": []
   },
   "outputs": [],
   "source": [
    "def get_sparql_dataframe(endpoint, query):\n",
    "    sparql = SPARQLWrapper(endpoint)\n",
    "    sparql.setQuery(query)\n",
    "    sparql.setReturnFormat(CSV)\n",
    "    res = sparql.queryAndConvert()\n",
    "    csv = StringIO(res.decode('utf-8'))\n",
    "    return pd.read_csv(csv, sep=',')"
   ]
  },
  {
   "cell_type": "markdown",
   "id": "801f2146-bceb-43db-9ddf-e81c6b4dee7b",
   "metadata": {},
   "source": [
    "Function to query all creator types and their counts:"
   ]
  },
  {
   "cell_type": "code",
   "execution_count": 4,
   "id": "9952fbd0-c421-4fef-bec1-d1d022678d82",
   "metadata": {
    "tags": []
   },
   "outputs": [],
   "source": [
    "def get_creator_types() -> pd.DataFrame:\n",
    "    \"\"\"\n",
    "    Get creator types in dblp\n",
    "    \"\"\"\n",
    "\n",
    "    q = \"\"\"\n",
    "        PREFIX dblp: <https://dblp.org/rdf/schema#>\n",
    "        PREFIX rdf: <http://www.w3.org/1999/02/22-rdf-syntax-ns#>\n",
    "        SELECT ?type (COUNT(?type) AS ?count) WHERE {\n",
    "          ?subject rdf:type dblp:Creator .\n",
    "          ?subject rdf:type ?type .\n",
    "          FILTER( ?type != dblp:Creator )\n",
    "        }\n",
    "        GROUP BY ?type\n",
    "        ORDER BY DESC(?count)\n",
    "        \"\"\"\n",
    "    \n",
    "    df = get_sparql_dataframe(ENDPOINT, q)\n",
    "\n",
    "    return df"
   ]
  },
  {
   "cell_type": "markdown",
   "id": "ae18f036-dbb7-4ddd-b8c6-22188586e8e7",
   "metadata": {},
   "source": [
    "Query SPARQL endpoint:"
   ]
  },
  {
   "cell_type": "code",
   "execution_count": 5,
   "id": "d8b722ea-8616-406d-8518-89a5fa800af3",
   "metadata": {
    "tags": []
   },
   "outputs": [],
   "source": [
    "df = get_creator_types()"
   ]
  },
  {
   "cell_type": "code",
   "execution_count": 6,
   "id": "6b22c146-556b-4f9d-a83c-ff9146e7135d",
   "metadata": {
    "tags": []
   },
   "outputs": [
    {
     "data": {
      "text/html": [
       "<div>\n",
       "<style scoped>\n",
       "    .dataframe tbody tr th:only-of-type {\n",
       "        vertical-align: middle;\n",
       "    }\n",
       "\n",
       "    .dataframe tbody tr th {\n",
       "        vertical-align: top;\n",
       "    }\n",
       "\n",
       "    .dataframe thead th {\n",
       "        text-align: right;\n",
       "    }\n",
       "</style>\n",
       "<table border=\"1\" class=\"dataframe\">\n",
       "  <thead>\n",
       "    <tr style=\"text-align: right;\">\n",
       "      <th></th>\n",
       "      <th>type</th>\n",
       "      <th>count</th>\n",
       "    </tr>\n",
       "  </thead>\n",
       "  <tbody>\n",
       "    <tr>\n",
       "      <th>0</th>\n",
       "      <td>https://dblp.org/rdf/schema#Person</td>\n",
       "      <td>3489667</td>\n",
       "    </tr>\n",
       "    <tr>\n",
       "      <th>1</th>\n",
       "      <td>https://dblp.org/rdf/schema#AmbiguousCreator</td>\n",
       "      <td>14284</td>\n",
       "    </tr>\n",
       "    <tr>\n",
       "      <th>2</th>\n",
       "      <td>https://dblp.org/rdf/schema#Group</td>\n",
       "      <td>351</td>\n",
       "    </tr>\n",
       "  </tbody>\n",
       "</table>\n",
       "</div>"
      ],
      "text/plain": [
       "                                           type    count\n",
       "0            https://dblp.org/rdf/schema#Person  3489667\n",
       "1  https://dblp.org/rdf/schema#AmbiguousCreator    14284\n",
       "2             https://dblp.org/rdf/schema#Group      351"
      ]
     },
     "execution_count": 6,
     "metadata": {},
     "output_type": "execute_result"
    }
   ],
   "source": [
    "df"
   ]
  },
  {
   "cell_type": "markdown",
   "id": "fd6ac08a-0bfb-4f48-8886-57906d17f0ac",
   "metadata": {},
   "source": [
    "Plot the results:"
   ]
  },
  {
   "cell_type": "code",
   "execution_count": 7,
   "id": "5333bf68-c6d9-4c8d-b2c8-4e4f88329e79",
   "metadata": {
    "tags": []
   },
   "outputs": [
    {
     "data": {
      "image/png": "[encoded data removed]",
      "text/plain": [
       "<Figure size 640x480 with 1 Axes>"
      ]
     },
     "metadata": {},
     "output_type": "display_data"
    }
   ],
   "source": [
    "df['type'] = df['type'].str.replace('https://dblp.org/rdf/schema#', 'dblp:')\n",
    "df.plot.bar(x='type', y='count', logy=True, rot=0)\n",
    "plt.show()"
   ]
  },
  {
   "cell_type": "code",
   "execution_count": null,
   "id": "6ea6811e-8430-49e1-9f56-3fe92125b477",
   "metadata": {},
   "outputs": [],
   "source": []
  }
 ],
 "metadata": {
  "kernelspec": {
   "display_name": "sparql",
   "language": "python",
   "name": "sparql"
  },
  "language_info": {
   "codemirror_mode": {
    "name": "ipython",
    "version": 3
   },
   "file_extension": ".py",
   "mimetype": "text/x-python",
   "name": "python",
   "nbconvert_exporter": "python",
   "pygments_lexer": "ipython3",
   "version": "3.12.3"
  }
 },
 "nbformat": 4,
 "nbformat_minor": 5
}
